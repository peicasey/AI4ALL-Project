{
    "metadata": {
        "kernelspec": {
            "name": "python3",
            "display_name": "Python 3 (ipykernel)",
            "language": "python"
        }
    },
    "nbformat": 4,
    "nbformat_minor": 2,
    "cells": [
        {
            "attachments": {},
            "cell_type": "markdown",
            "metadata": {},
            "source": [
                "**In the example(s) that you run, what did you learn about how entropy helps us understand data? In your answer, use results that you got from running your code**"
            ]
        },
        {
            "attachments": {},
            "cell_type": "markdown",
            "metadata": {},
            "source": [
                "I learned that entropy is a measure of the average amount of information / uncertainty from a varialble's outcomes, which helps us identify not only how well an algorithm is at making predictions but also if it's providing insights. Since entropy will show both if the algorithm is underfitting (it's close to random when it comes to being able to predict values), and if it's overfitting (it's just stating what the values are, and not trying to extrapolate/predict any value)."
            ]
        },
        {
            "attachments": {},
            "cell_type": "markdown",
            "metadata": {},
            "source": [
                "**What was the hardest part of the session?**\n",
                ""
            ]
        },
        {
            "attachments": {},
            "cell_type": "markdown",
            "metadata": {},
            "source": [
                "The hardest part of the session was that since I chose to use an unsupervised algorithm, and the dataset that I used had no \"ground truth,\" so I had to use a different method to evaluate how accurate the algorithm was. That does reveal one of the weaknesses of using entropy when it comes to unsupervised algorithms, which is useful in its own way."
            ]
        },
        {
            "attachments": {},
            "cell_type": "markdown",
            "metadata": {},
            "source": [
                "**Please post a link to your public github repo**"
            ]
        },
        {
            "attachments": {},
            "cell_type": "markdown",
            "metadata": {},
            "source": [
                "https://github.com/peicasey/DiscoverAI_Projects_Group6"
            ]
        }
    ]
}
